{
 "cells": [
  {
   "cell_type": "markdown",
   "metadata": {},
   "source": [
    "# Data Extraction "
   ]
  },
  {
   "cell_type": "code",
   "execution_count": 60,
   "metadata": {},
   "outputs": [],
   "source": [
    "#Imports\n",
    "import pandas as pd\n",
    "import numpy as np\n",
    "import datetime\n",
    "import os\n",
    "import warnings\n",
    "import json\n",
    "import matplotlib.pyplot as plt\n",
    "import seaborn as sns\n",
    "from sqlalchemy import create_engine\n",
    "import doctest\n",
    "from collections import defaultdict"
   ]
  },
  {
   "cell_type": "markdown",
   "metadata": {},
   "source": [
    "### Connect to database "
   ]
  },
  {
   "cell_type": "code",
   "execution_count": 2,
   "metadata": {},
   "outputs": [],
   "source": [
    "# Load the file \n",
    "json_data = json.loads(open('../../db_conn.json').read())\n",
    "\n",
    "conn = 'mysql+pymysql://'+json_data[\"user\"]+':'+json_data[\"password\"]+'@'+json_data[\"host\"]+':'+str(json_data[\"port\"])+'/'+json_data[\"db_name\"]"
   ]
  },
  {
   "cell_type": "code",
   "execution_count": 3,
   "metadata": {},
   "outputs": [],
   "source": [
    "# Connect to the DB\n",
    "mysql_engine = create_engine(conn,echo=False)"
   ]
  },
  {
   "cell_type": "markdown",
   "metadata": {},
   "source": [
    "### Retrieve the dataset"
   ]
  },
  {
   "cell_type": "markdown",
   "metadata": {},
   "source": [
    "The dataset used will have the following characteristics, which were derived from EDA step:\n",
    "\n",
    "* We will include sales for products 45, 5, and 9 only.\n",
    "* We will ignore stores related to weather stations 5 and 8.\n",
    "* The model will be fitted to predict daily sales of one product across stores (in the first iteration), therefore, we will require daily sales for each of the products in every relevant store using a timestamp."
   ]
  },
  {
   "cell_type": "code",
   "execution_count": 4,
   "metadata": {},
   "outputs": [],
   "source": [
    "q = \"\"\"select t.item_nbr, t.units, t.store_nbr, w.* FROM train as t\n",
    "left join RetailWeather.key as s on t.store_nbr = s.store_nbr\n",
    "left join RetailWeather.weather as w on s.station_nbr = w.station_nbr and t.date = w.date\n",
    "where t.item_nbr in (45, 9, 5) and t.store_nbr not in (5, 8);\"\"\""
   ]
  },
  {
   "cell_type": "code",
   "execution_count": 5,
   "metadata": {},
   "outputs": [],
   "source": [
    "sales_df = pd.read_sql_query(q, conn)"
   ]
  },
  {
   "cell_type": "code",
   "execution_count": 6,
   "metadata": {},
   "outputs": [],
   "source": [
    "sales_df.date = pd.to_datetime(sales_df.date)"
   ]
  },
  {
   "cell_type": "markdown",
   "metadata": {},
   "source": [
    "Now that we have what we wanted, let's start cleaning. "
   ]
  },
  {
   "cell_type": "markdown",
   "metadata": {},
   "source": [
    "# Slicing the data "
   ]
  },
  {
   "cell_type": "code",
   "execution_count": 8,
   "metadata": {},
   "outputs": [],
   "source": [
    "sales_data = sales_df[['date', 'item_nbr', 'units', \n",
    "                       'store_nbr', 'station_nbr', 'tmax', \n",
    "                       'codesum', 'preciptotal', 'stnpressure','avgspeed']]"
   ]
  },
  {
   "cell_type": "code",
   "execution_count": 9,
   "metadata": {},
   "outputs": [
    {
     "data": {
      "text/html": [
       "<div>\n",
       "<style scoped>\n",
       "    .dataframe tbody tr th:only-of-type {\n",
       "        vertical-align: middle;\n",
       "    }\n",
       "\n",
       "    .dataframe tbody tr th {\n",
       "        vertical-align: top;\n",
       "    }\n",
       "\n",
       "    .dataframe thead th {\n",
       "        text-align: right;\n",
       "    }\n",
       "</style>\n",
       "<table border=\"1\" class=\"dataframe\">\n",
       "  <thead>\n",
       "    <tr style=\"text-align: right;\">\n",
       "      <th></th>\n",
       "      <th>date</th>\n",
       "      <th>item_nbr</th>\n",
       "      <th>units</th>\n",
       "      <th>store_nbr</th>\n",
       "      <th>station_nbr</th>\n",
       "      <th>tmax</th>\n",
       "      <th>codesum</th>\n",
       "      <th>preciptotal</th>\n",
       "      <th>stnpressure</th>\n",
       "      <th>avgspeed</th>\n",
       "    </tr>\n",
       "  </thead>\n",
       "  <tbody>\n",
       "    <tr>\n",
       "      <td>0</td>\n",
       "      <td>2012-01-01</td>\n",
       "      <td>5</td>\n",
       "      <td>0</td>\n",
       "      <td>1</td>\n",
       "      <td>1</td>\n",
       "      <td>52.0</td>\n",
       "      <td>RA FZFG BR</td>\n",
       "      <td>0.05</td>\n",
       "      <td>29.78</td>\n",
       "      <td>4.6</td>\n",
       "    </tr>\n",
       "    <tr>\n",
       "      <td>1</td>\n",
       "      <td>2012-01-01</td>\n",
       "      <td>9</td>\n",
       "      <td>29</td>\n",
       "      <td>1</td>\n",
       "      <td>1</td>\n",
       "      <td>52.0</td>\n",
       "      <td>RA FZFG BR</td>\n",
       "      <td>0.05</td>\n",
       "      <td>29.78</td>\n",
       "      <td>4.6</td>\n",
       "    </tr>\n",
       "    <tr>\n",
       "      <td>2</td>\n",
       "      <td>2012-01-01</td>\n",
       "      <td>45</td>\n",
       "      <td>0</td>\n",
       "      <td>1</td>\n",
       "      <td>1</td>\n",
       "      <td>52.0</td>\n",
       "      <td>RA FZFG BR</td>\n",
       "      <td>0.05</td>\n",
       "      <td>29.78</td>\n",
       "      <td>4.6</td>\n",
       "    </tr>\n",
       "    <tr>\n",
       "      <td>3</td>\n",
       "      <td>2012-01-02</td>\n",
       "      <td>5</td>\n",
       "      <td>0</td>\n",
       "      <td>1</td>\n",
       "      <td>1</td>\n",
       "      <td>50.0</td>\n",
       "      <td></td>\n",
       "      <td>0.01</td>\n",
       "      <td>29.44</td>\n",
       "      <td>10.3</td>\n",
       "    </tr>\n",
       "    <tr>\n",
       "      <td>4</td>\n",
       "      <td>2012-01-02</td>\n",
       "      <td>9</td>\n",
       "      <td>60</td>\n",
       "      <td>1</td>\n",
       "      <td>1</td>\n",
       "      <td>50.0</td>\n",
       "      <td></td>\n",
       "      <td>0.01</td>\n",
       "      <td>29.44</td>\n",
       "      <td>10.3</td>\n",
       "    </tr>\n",
       "    <tr>\n",
       "      <td>...</td>\n",
       "      <td>...</td>\n",
       "      <td>...</td>\n",
       "      <td>...</td>\n",
       "      <td>...</td>\n",
       "      <td>...</td>\n",
       "      <td>...</td>\n",
       "      <td>...</td>\n",
       "      <td>...</td>\n",
       "      <td>...</td>\n",
       "      <td>...</td>\n",
       "    </tr>\n",
       "    <tr>\n",
       "      <td>119371</td>\n",
       "      <td>2014-10-30</td>\n",
       "      <td>9</td>\n",
       "      <td>12</td>\n",
       "      <td>45</td>\n",
       "      <td>16</td>\n",
       "      <td>57.0</td>\n",
       "      <td></td>\n",
       "      <td>0.00</td>\n",
       "      <td>29.79</td>\n",
       "      <td>4.6</td>\n",
       "    </tr>\n",
       "    <tr>\n",
       "      <td>119372</td>\n",
       "      <td>2014-10-30</td>\n",
       "      <td>45</td>\n",
       "      <td>0</td>\n",
       "      <td>45</td>\n",
       "      <td>16</td>\n",
       "      <td>57.0</td>\n",
       "      <td></td>\n",
       "      <td>0.00</td>\n",
       "      <td>29.79</td>\n",
       "      <td>4.6</td>\n",
       "    </tr>\n",
       "    <tr>\n",
       "      <td>119373</td>\n",
       "      <td>2014-10-31</td>\n",
       "      <td>5</td>\n",
       "      <td>0</td>\n",
       "      <td>45</td>\n",
       "      <td>16</td>\n",
       "      <td>53.0</td>\n",
       "      <td></td>\n",
       "      <td>0.00</td>\n",
       "      <td>29.90</td>\n",
       "      <td>5.3</td>\n",
       "    </tr>\n",
       "    <tr>\n",
       "      <td>119374</td>\n",
       "      <td>2014-10-31</td>\n",
       "      <td>9</td>\n",
       "      <td>10</td>\n",
       "      <td>45</td>\n",
       "      <td>16</td>\n",
       "      <td>53.0</td>\n",
       "      <td></td>\n",
       "      <td>0.00</td>\n",
       "      <td>29.90</td>\n",
       "      <td>5.3</td>\n",
       "    </tr>\n",
       "    <tr>\n",
       "      <td>119375</td>\n",
       "      <td>2014-10-31</td>\n",
       "      <td>45</td>\n",
       "      <td>0</td>\n",
       "      <td>45</td>\n",
       "      <td>16</td>\n",
       "      <td>53.0</td>\n",
       "      <td></td>\n",
       "      <td>0.00</td>\n",
       "      <td>29.90</td>\n",
       "      <td>5.3</td>\n",
       "    </tr>\n",
       "  </tbody>\n",
       "</table>\n",
       "<p>119376 rows × 10 columns</p>\n",
       "</div>"
      ],
      "text/plain": [
       "             date  item_nbr  units  store_nbr  station_nbr  tmax     codesum  \\\n",
       "0      2012-01-01         5      0          1            1  52.0  RA FZFG BR   \n",
       "1      2012-01-01         9     29          1            1  52.0  RA FZFG BR   \n",
       "2      2012-01-01        45      0          1            1  52.0  RA FZFG BR   \n",
       "3      2012-01-02         5      0          1            1  50.0               \n",
       "4      2012-01-02         9     60          1            1  50.0               \n",
       "...           ...       ...    ...        ...          ...   ...         ...   \n",
       "119371 2014-10-30         9     12         45           16  57.0               \n",
       "119372 2014-10-30        45      0         45           16  57.0               \n",
       "119373 2014-10-31         5      0         45           16  53.0               \n",
       "119374 2014-10-31         9     10         45           16  53.0               \n",
       "119375 2014-10-31        45      0         45           16  53.0               \n",
       "\n",
       "        preciptotal  stnpressure  avgspeed  \n",
       "0              0.05        29.78       4.6  \n",
       "1              0.05        29.78       4.6  \n",
       "2              0.05        29.78       4.6  \n",
       "3              0.01        29.44      10.3  \n",
       "4              0.01        29.44      10.3  \n",
       "...             ...          ...       ...  \n",
       "119371         0.00        29.79       4.6  \n",
       "119372         0.00        29.79       4.6  \n",
       "119373         0.00        29.90       5.3  \n",
       "119374         0.00        29.90       5.3  \n",
       "119375         0.00        29.90       5.3  \n",
       "\n",
       "[119376 rows x 10 columns]"
      ]
     },
     "execution_count": 9,
     "metadata": {},
     "output_type": "execute_result"
    }
   ],
   "source": [
    "sales_data"
   ]
  },
  {
   "cell_type": "markdown",
   "metadata": {},
   "source": [
    "# Data transformation "
   ]
  },
  {
   "cell_type": "markdown",
   "metadata": {},
   "source": [
    "## Breaking down the `codesum` feature "
   ]
  },
  {
   "cell_type": "markdown",
   "metadata": {},
   "source": [
    "In this column  we have multiple codes for different kinds of weather phenomena, this information might be usefull for identifying specific features of weather that could impact sales such as rain, snow, thunderstorms, etc. We will break down this column to create multiple boolean features containing these kinds of events. Let's explore how it looks like:"
   ]
  },
  {
   "cell_type": "code",
   "execution_count": 45,
   "metadata": {},
   "outputs": [
    {
     "data": {
      "text/plain": [
       "array(['RA FZFG BR', ' ', 'SN', 'RA SN BR', 'RA FZRA FG+ FG BR UP',\n",
       "       'SN BR', 'RA SN BR HZ', 'RA', 'RA BR', 'BR', 'RA FZRA SN BR UP',\n",
       "       'RA FG+ FG FZFG BR HZ', 'SN FG BR', 'SN FG+ FZFG BR',\n",
       "       'RA SN FG+ BR', 'RA HZ', 'FG BR', 'BR HZ', 'RA BR HZ', 'HZ'],\n",
       "      dtype=object)"
      ]
     },
     "execution_count": 45,
     "metadata": {},
     "output_type": "execute_result"
    }
   ],
   "source": [
    "sales_data.codesum.unique()[0:20]"
   ]
  },
  {
   "cell_type": "code",
   "execution_count": 71,
   "metadata": {},
   "outputs": [],
   "source": [
    "def break_codesum(string):\n",
    "    \"\"\"\n",
    "    Take one codesum string and break it into a list of elements given the spaces inside the string.\n",
    "    Example:\n",
    "    \n",
    "    >>> break_codesum('RA RA FZFG BR')\n",
    "    {'RA': 2, 'FZFG': 1, 'BR': 1}\n",
    "    \"\"\"\n",
    "    \n",
    "    import re\n",
    "    \n",
    "    if string.strip() != '':\n",
    "        sym_count = defaultdict(int)\n",
    "        for sym in re.split('\\s+', string.strip()):\n",
    "            sym_count[sym] += 1\n",
    "    else:\n",
    "        sym_count = {}\n",
    "    \n",
    "    return dict(sym_count)\n",
    "\n",
    "if __name__ == '__main__':\n",
    "    import doctest\n",
    "    doctest.run_docstring_examples(break_codesum, globals())\n",
    "    "
   ]
  },
  {
   "cell_type": "code",
   "execution_count": null,
   "metadata": {},
   "outputs": [],
   "source": []
  },
  {
   "cell_type": "code",
   "execution_count": 57,
   "metadata": {},
   "outputs": [],
   "source": [
    "codesum_df = pd.DataFrame.from_dict({idx: break_codesum(string) for idx, string in enumerate(sales_data.codesum)}, orient='index')"
   ]
  },
  {
   "cell_type": "code",
   "execution_count": null,
   "metadata": {},
   "outputs": [],
   "source": []
  }
 ],
 "metadata": {
  "kernelspec": {
   "display_name": "Python 3",
   "language": "python",
   "name": "python3"
  },
  "language_info": {
   "codemirror_mode": {
    "name": "ipython",
    "version": 3
   },
   "file_extension": ".py",
   "mimetype": "text/x-python",
   "name": "python",
   "nbconvert_exporter": "python",
   "pygments_lexer": "ipython3",
   "version": "3.7.4"
  }
 },
 "nbformat": 4,
 "nbformat_minor": 2
}
