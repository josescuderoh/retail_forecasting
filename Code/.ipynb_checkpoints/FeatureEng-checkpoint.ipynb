{
 "cells": [
  {
   "cell_type": "markdown",
   "metadata": {},
   "source": [
    "# Data Extraction "
   ]
  },
  {
   "cell_type": "code",
   "execution_count": 1,
   "metadata": {},
   "outputs": [],
   "source": [
    "#Imports\n",
    "import pandas as pd\n",
    "import numpy as np\n",
    "import datetime\n",
    "import os\n",
    "import warnings\n",
    "import json\n",
    "import matplotlib.pyplot as plt\n",
    "import seaborn as sns\n",
    "from sqlalchemy import create_engine\n",
    "import doctest\n",
    "from collections import defaultdict"
   ]
  },
  {
   "cell_type": "markdown",
   "metadata": {},
   "source": [
    "## Connect to database "
   ]
  },
  {
   "cell_type": "code",
   "execution_count": 2,
   "metadata": {},
   "outputs": [],
   "source": [
    "# Load the file \n",
    "json_data = json.loads(open('../../db_conn.json').read())\n",
    "\n",
    "conn = 'mysql+pymysql://'+json_data[\"user\"]+':'+json_data[\"password\"]+'@'+json_data[\"host\"]+':'+str(json_data[\"port\"])+'/'+json_data[\"db_name\"]"
   ]
  },
  {
   "cell_type": "code",
   "execution_count": 3,
   "metadata": {},
   "outputs": [],
   "source": [
    "# Connect to the DB\n",
    "mysql_engine = create_engine(conn,echo=False)"
   ]
  },
  {
   "cell_type": "markdown",
   "metadata": {},
   "source": [
    "## Retrieve the dataset"
   ]
  },
  {
   "cell_type": "markdown",
   "metadata": {},
   "source": [
    "The dataset used will have the following characteristics, which were derived from EDA step:\n",
    "\n",
    "* We will include sales for products 45, 5, and 9 only.\n",
    "* We will ignore stores related to weather stations 5 and 8.\n",
    "* The model will be fitted to predict daily sales of one product across stores (in the first iteration), therefore, we will require daily sales for each of the products in every relevant store using a timestamp."
   ]
  },
  {
   "cell_type": "code",
   "execution_count": 219,
   "metadata": {},
   "outputs": [],
   "source": [
    "q = \"\"\"select t.item_nbr, t.units, t.store_nbr, w.* FROM train as t\n",
    "left join RetailWeather.key as s on t.store_nbr = s.store_nbr\n",
    "left join RetailWeather.weather as w on s.station_nbr = w.station_nbr and t.date = w.date\n",
    "where t.item_nbr in (45, 9, 5) and s.station_nbr not in (5, 8);\"\"\""
   ]
  },
  {
   "cell_type": "code",
   "execution_count": 220,
   "metadata": {},
   "outputs": [],
   "source": [
    "sales_df = pd.read_sql_query(q, conn)"
   ]
  },
  {
   "cell_type": "code",
   "execution_count": 221,
   "metadata": {},
   "outputs": [],
   "source": [
    "sales_df.date = pd.to_datetime(sales_df.date)"
   ]
  },
  {
   "cell_type": "markdown",
   "metadata": {},
   "source": [
    "Now that we have what we wanted, let's start cleaning. "
   ]
  },
  {
   "cell_type": "markdown",
   "metadata": {},
   "source": [
    "# Slicing the data "
   ]
  },
  {
   "cell_type": "markdown",
   "metadata": {},
   "source": [
    "Select only relevant features according to [EDA](EDA.ipynb) performed, this means:\n",
    "* Filtering fields of interest.\n",
    "* Leaving `store_nbr` and `station_nbr` in order to to match station clusters. "
   ]
  },
  {
   "cell_type": "code",
   "execution_count": 222,
   "metadata": {},
   "outputs": [],
   "source": [
    "sales_data = sales_df[['date', 'item_nbr', \n",
    "                       'store_nbr', 'station_nbr', 'tmax', \n",
    "                       'codesum', 'preciptotal', 'stnpressure','avgspeed','units']]"
   ]
  },
  {
   "cell_type": "code",
   "execution_count": 223,
   "metadata": {},
   "outputs": [
    {
     "data": {
      "text/html": [
       "<div>\n",
       "<style scoped>\n",
       "    .dataframe tbody tr th:only-of-type {\n",
       "        vertical-align: middle;\n",
       "    }\n",
       "\n",
       "    .dataframe tbody tr th {\n",
       "        vertical-align: top;\n",
       "    }\n",
       "\n",
       "    .dataframe thead th {\n",
       "        text-align: right;\n",
       "    }\n",
       "</style>\n",
       "<table border=\"1\" class=\"dataframe\">\n",
       "  <thead>\n",
       "    <tr style=\"text-align: right;\">\n",
       "      <th></th>\n",
       "      <th>date</th>\n",
       "      <th>item_nbr</th>\n",
       "      <th>store_nbr</th>\n",
       "      <th>station_nbr</th>\n",
       "      <th>tmax</th>\n",
       "      <th>codesum</th>\n",
       "      <th>preciptotal</th>\n",
       "      <th>stnpressure</th>\n",
       "      <th>avgspeed</th>\n",
       "      <th>units</th>\n",
       "    </tr>\n",
       "  </thead>\n",
       "  <tbody>\n",
       "    <tr>\n",
       "      <td>0</td>\n",
       "      <td>2012-01-01</td>\n",
       "      <td>5</td>\n",
       "      <td>1</td>\n",
       "      <td>1</td>\n",
       "      <td>52.0</td>\n",
       "      <td>RA FZFG BR</td>\n",
       "      <td>0.05</td>\n",
       "      <td>29.78</td>\n",
       "      <td>4.6</td>\n",
       "      <td>0</td>\n",
       "    </tr>\n",
       "    <tr>\n",
       "      <td>1</td>\n",
       "      <td>2012-01-01</td>\n",
       "      <td>9</td>\n",
       "      <td>1</td>\n",
       "      <td>1</td>\n",
       "      <td>52.0</td>\n",
       "      <td>RA FZFG BR</td>\n",
       "      <td>0.05</td>\n",
       "      <td>29.78</td>\n",
       "      <td>4.6</td>\n",
       "      <td>29</td>\n",
       "    </tr>\n",
       "    <tr>\n",
       "      <td>2</td>\n",
       "      <td>2012-01-01</td>\n",
       "      <td>45</td>\n",
       "      <td>1</td>\n",
       "      <td>1</td>\n",
       "      <td>52.0</td>\n",
       "      <td>RA FZFG BR</td>\n",
       "      <td>0.05</td>\n",
       "      <td>29.78</td>\n",
       "      <td>4.6</td>\n",
       "      <td>0</td>\n",
       "    </tr>\n",
       "    <tr>\n",
       "      <td>3</td>\n",
       "      <td>2012-01-02</td>\n",
       "      <td>5</td>\n",
       "      <td>1</td>\n",
       "      <td>1</td>\n",
       "      <td>50.0</td>\n",
       "      <td></td>\n",
       "      <td>0.01</td>\n",
       "      <td>29.44</td>\n",
       "      <td>10.3</td>\n",
       "      <td>0</td>\n",
       "    </tr>\n",
       "    <tr>\n",
       "      <td>4</td>\n",
       "      <td>2012-01-02</td>\n",
       "      <td>9</td>\n",
       "      <td>1</td>\n",
       "      <td>1</td>\n",
       "      <td>50.0</td>\n",
       "      <td></td>\n",
       "      <td>0.01</td>\n",
       "      <td>29.44</td>\n",
       "      <td>10.3</td>\n",
       "      <td>60</td>\n",
       "    </tr>\n",
       "  </tbody>\n",
       "</table>\n",
       "</div>"
      ],
      "text/plain": [
       "        date  item_nbr  store_nbr  station_nbr  tmax     codesum  preciptotal  \\\n",
       "0 2012-01-01         5          1            1  52.0  RA FZFG BR         0.05   \n",
       "1 2012-01-01         9          1            1  52.0  RA FZFG BR         0.05   \n",
       "2 2012-01-01        45          1            1  52.0  RA FZFG BR         0.05   \n",
       "3 2012-01-02         5          1            1  50.0                     0.01   \n",
       "4 2012-01-02         9          1            1  50.0                     0.01   \n",
       "\n",
       "   stnpressure  avgspeed  units  \n",
       "0        29.78       4.6      0  \n",
       "1        29.78       4.6     29  \n",
       "2        29.78       4.6      0  \n",
       "3        29.44      10.3      0  \n",
       "4        29.44      10.3     60  "
      ]
     },
     "execution_count": 223,
     "metadata": {},
     "output_type": "execute_result"
    }
   ],
   "source": [
    "sales_data.head()"
   ]
  },
  {
   "cell_type": "code",
   "execution_count": 224,
   "metadata": {},
   "outputs": [
    {
     "data": {
      "text/plain": [
       "(119298, 10)"
      ]
     },
     "execution_count": 224,
     "metadata": {},
     "output_type": "execute_result"
    }
   ],
   "source": [
    "sales_data.shape"
   ]
  },
  {
   "cell_type": "markdown",
   "metadata": {},
   "source": [
    "# Data transformation "
   ]
  },
  {
   "cell_type": "markdown",
   "metadata": {},
   "source": [
    "## Breaking down the `codesum` feature "
   ]
  },
  {
   "cell_type": "markdown",
   "metadata": {},
   "source": [
    "In this column, we have multiple codes for different kinds of *weather phenomena*, this information might be usefull for identifying specific features of weather that could impact sales such as rain, snow, thunderstorms, etc. We will break down this column to create multiple boolean features containing these kinds of events. Let's explore how it looks:"
   ]
  },
  {
   "cell_type": "code",
   "execution_count": 225,
   "metadata": {},
   "outputs": [
    {
     "data": {
      "text/plain": [
       "array(['RA FZFG BR', ' ', 'SN', 'RA SN BR', 'RA FZRA FG+ FG BR UP',\n",
       "       'SN BR', 'RA SN BR HZ', 'RA', 'RA BR', 'BR', 'RA FZRA SN BR UP',\n",
       "       'RA FG+ FG FZFG BR HZ', 'SN FG BR', 'SN FG+ FZFG BR',\n",
       "       'RA SN FG+ BR', 'RA HZ', 'FG BR', 'BR HZ', 'RA BR HZ', 'HZ'],\n",
       "      dtype=object)"
      ]
     },
     "execution_count": 225,
     "metadata": {},
     "output_type": "execute_result"
    }
   ],
   "source": [
    "sales_data.codesum.unique()[0:20]"
   ]
  },
  {
   "cell_type": "code",
   "execution_count": 226,
   "metadata": {},
   "outputs": [],
   "source": [
    "def break_codesum(string):\n",
    "    \"\"\"\n",
    "    Take one string from codesum and break it into a list of elements given the spaces inside the string.\n",
    "    Example:\n",
    "    \n",
    "    >>> break_codesum('RA RA FZFG BR')\n",
    "    {'RA': 2, 'FZFG': 1, 'BR': 1}\n",
    "    \"\"\"\n",
    "    \n",
    "    import re\n",
    "    from collections import defaultdict\n",
    "    \n",
    "    if string.strip() != '':\n",
    "        sym_count = defaultdict(int)\n",
    "        for sym in re.split('\\s+', string.strip()):\n",
    "            sym_count[sym] += 1\n",
    "    else:\n",
    "        sym_count = {}\n",
    "    \n",
    "    return dict(sym_count)\n",
    "\n",
    "if __name__ == '__main__':\n",
    "    import doctest\n",
    "    doctest.run_docstring_examples(break_codesum, globals())"
   ]
  },
  {
   "cell_type": "markdown",
   "metadata": {},
   "source": [
    "Now apply the function `break_codesum` to the whole `codesum` and see the results: "
   ]
  },
  {
   "cell_type": "code",
   "execution_count": 227,
   "metadata": {},
   "outputs": [],
   "source": [
    "codesum_df = pd.DataFrame.from_dict([break_codesum(string) for idx, string in enumerate(sales_data.codesum)])\n",
    "codesum_df.fillna(0,inplace=True)"
   ]
  },
  {
   "cell_type": "code",
   "execution_count": 228,
   "metadata": {},
   "outputs": [
    {
     "data": {
      "text/html": [
       "<div>\n",
       "<style scoped>\n",
       "    .dataframe tbody tr th:only-of-type {\n",
       "        vertical-align: middle;\n",
       "    }\n",
       "\n",
       "    .dataframe tbody tr th {\n",
       "        vertical-align: top;\n",
       "    }\n",
       "\n",
       "    .dataframe thead th {\n",
       "        text-align: right;\n",
       "    }\n",
       "</style>\n",
       "<table border=\"1\" class=\"dataframe\">\n",
       "  <thead>\n",
       "    <tr style=\"text-align: right;\">\n",
       "      <th></th>\n",
       "      <th>RA</th>\n",
       "      <th>FZFG</th>\n",
       "      <th>BR</th>\n",
       "      <th>SN</th>\n",
       "      <th>FZRA</th>\n",
       "      <th>FG+</th>\n",
       "      <th>FG</th>\n",
       "      <th>UP</th>\n",
       "      <th>HZ</th>\n",
       "      <th>TSRA</th>\n",
       "      <th>...</th>\n",
       "      <th>PL</th>\n",
       "      <th>MIFG</th>\n",
       "      <th>VCFG</th>\n",
       "      <th>BLDU</th>\n",
       "      <th>SQ</th>\n",
       "      <th>GR</th>\n",
       "      <th>TSSN</th>\n",
       "      <th>GS</th>\n",
       "      <th>SG</th>\n",
       "      <th>PRFG</th>\n",
       "    </tr>\n",
       "  </thead>\n",
       "  <tbody>\n",
       "    <tr>\n",
       "      <td>0</td>\n",
       "      <td>1.0</td>\n",
       "      <td>1.0</td>\n",
       "      <td>1.0</td>\n",
       "      <td>0.0</td>\n",
       "      <td>0.0</td>\n",
       "      <td>0.0</td>\n",
       "      <td>0.0</td>\n",
       "      <td>0.0</td>\n",
       "      <td>0.0</td>\n",
       "      <td>0.0</td>\n",
       "      <td>...</td>\n",
       "      <td>0.0</td>\n",
       "      <td>0.0</td>\n",
       "      <td>0.0</td>\n",
       "      <td>0.0</td>\n",
       "      <td>0.0</td>\n",
       "      <td>0.0</td>\n",
       "      <td>0.0</td>\n",
       "      <td>0.0</td>\n",
       "      <td>0.0</td>\n",
       "      <td>0.0</td>\n",
       "    </tr>\n",
       "    <tr>\n",
       "      <td>1</td>\n",
       "      <td>1.0</td>\n",
       "      <td>1.0</td>\n",
       "      <td>1.0</td>\n",
       "      <td>0.0</td>\n",
       "      <td>0.0</td>\n",
       "      <td>0.0</td>\n",
       "      <td>0.0</td>\n",
       "      <td>0.0</td>\n",
       "      <td>0.0</td>\n",
       "      <td>0.0</td>\n",
       "      <td>...</td>\n",
       "      <td>0.0</td>\n",
       "      <td>0.0</td>\n",
       "      <td>0.0</td>\n",
       "      <td>0.0</td>\n",
       "      <td>0.0</td>\n",
       "      <td>0.0</td>\n",
       "      <td>0.0</td>\n",
       "      <td>0.0</td>\n",
       "      <td>0.0</td>\n",
       "      <td>0.0</td>\n",
       "    </tr>\n",
       "    <tr>\n",
       "      <td>2</td>\n",
       "      <td>1.0</td>\n",
       "      <td>1.0</td>\n",
       "      <td>1.0</td>\n",
       "      <td>0.0</td>\n",
       "      <td>0.0</td>\n",
       "      <td>0.0</td>\n",
       "      <td>0.0</td>\n",
       "      <td>0.0</td>\n",
       "      <td>0.0</td>\n",
       "      <td>0.0</td>\n",
       "      <td>...</td>\n",
       "      <td>0.0</td>\n",
       "      <td>0.0</td>\n",
       "      <td>0.0</td>\n",
       "      <td>0.0</td>\n",
       "      <td>0.0</td>\n",
       "      <td>0.0</td>\n",
       "      <td>0.0</td>\n",
       "      <td>0.0</td>\n",
       "      <td>0.0</td>\n",
       "      <td>0.0</td>\n",
       "    </tr>\n",
       "    <tr>\n",
       "      <td>3</td>\n",
       "      <td>0.0</td>\n",
       "      <td>0.0</td>\n",
       "      <td>0.0</td>\n",
       "      <td>0.0</td>\n",
       "      <td>0.0</td>\n",
       "      <td>0.0</td>\n",
       "      <td>0.0</td>\n",
       "      <td>0.0</td>\n",
       "      <td>0.0</td>\n",
       "      <td>0.0</td>\n",
       "      <td>...</td>\n",
       "      <td>0.0</td>\n",
       "      <td>0.0</td>\n",
       "      <td>0.0</td>\n",
       "      <td>0.0</td>\n",
       "      <td>0.0</td>\n",
       "      <td>0.0</td>\n",
       "      <td>0.0</td>\n",
       "      <td>0.0</td>\n",
       "      <td>0.0</td>\n",
       "      <td>0.0</td>\n",
       "    </tr>\n",
       "    <tr>\n",
       "      <td>4</td>\n",
       "      <td>0.0</td>\n",
       "      <td>0.0</td>\n",
       "      <td>0.0</td>\n",
       "      <td>0.0</td>\n",
       "      <td>0.0</td>\n",
       "      <td>0.0</td>\n",
       "      <td>0.0</td>\n",
       "      <td>0.0</td>\n",
       "      <td>0.0</td>\n",
       "      <td>0.0</td>\n",
       "      <td>...</td>\n",
       "      <td>0.0</td>\n",
       "      <td>0.0</td>\n",
       "      <td>0.0</td>\n",
       "      <td>0.0</td>\n",
       "      <td>0.0</td>\n",
       "      <td>0.0</td>\n",
       "      <td>0.0</td>\n",
       "      <td>0.0</td>\n",
       "      <td>0.0</td>\n",
       "      <td>0.0</td>\n",
       "    </tr>\n",
       "  </tbody>\n",
       "</table>\n",
       "<p>5 rows × 28 columns</p>\n",
       "</div>"
      ],
      "text/plain": [
       "    RA  FZFG   BR   SN  FZRA  FG+   FG   UP   HZ  TSRA  ...   PL  MIFG  VCFG  \\\n",
       "0  1.0   1.0  1.0  0.0   0.0  0.0  0.0  0.0  0.0   0.0  ...  0.0   0.0   0.0   \n",
       "1  1.0   1.0  1.0  0.0   0.0  0.0  0.0  0.0  0.0   0.0  ...  0.0   0.0   0.0   \n",
       "2  1.0   1.0  1.0  0.0   0.0  0.0  0.0  0.0  0.0   0.0  ...  0.0   0.0   0.0   \n",
       "3  0.0   0.0  0.0  0.0   0.0  0.0  0.0  0.0  0.0   0.0  ...  0.0   0.0   0.0   \n",
       "4  0.0   0.0  0.0  0.0   0.0  0.0  0.0  0.0  0.0   0.0  ...  0.0   0.0   0.0   \n",
       "\n",
       "   BLDU   SQ   GR  TSSN   GS   SG  PRFG  \n",
       "0   0.0  0.0  0.0   0.0  0.0  0.0   0.0  \n",
       "1   0.0  0.0  0.0   0.0  0.0  0.0   0.0  \n",
       "2   0.0  0.0  0.0   0.0  0.0  0.0   0.0  \n",
       "3   0.0  0.0  0.0   0.0  0.0  0.0   0.0  \n",
       "4   0.0  0.0  0.0   0.0  0.0  0.0   0.0  \n",
       "\n",
       "[5 rows x 28 columns]"
      ]
     },
     "execution_count": 228,
     "metadata": {},
     "output_type": "execute_result"
    }
   ],
   "source": [
    "codesum_df.head()"
   ]
  },
  {
   "cell_type": "markdown",
   "metadata": {},
   "source": [
    "Let's check how frequent are these events with respect to the amount of days analyzed: "
   ]
  },
  {
   "cell_type": "code",
   "execution_count": 229,
   "metadata": {},
   "outputs": [
    {
     "data": {
      "text/plain": [
       "<matplotlib.axes._subplots.AxesSubplot at 0x1acd16d0a88>"
      ]
     },
     "execution_count": 229,
     "metadata": {},
     "output_type": "execute_result"
    },
    {
     "data": {
      "image/png": "[encoded data removed]",
      "text/plain": [
       "<Figure size 720x360 with 1 Axes>"
      ]
     },
     "metadata": {
      "needs_background": "light"
     },
     "output_type": "display_data"
    }
   ],
   "source": [
    "fig,ax = plt.subplots(1,1, figsize=(10,5))\n",
    "codesum_df.sum().divide(codesum_df.shape[0]).sort_values(ascending=False).plot(kind='bar', ax=ax)"
   ]
  },
  {
   "cell_type": "markdown",
   "metadata": {},
   "source": [
    "We have that the most common events will be mist (BR), rain (RA), haze (HZ), thunderstorm and rain (TSRA), snow (SN) and thunderstorms alone (TS). All of those with 5% of occurrance in the dataset or more. Having this information, now we can append the `codesum_df` dataset to our `sales_data` in order to have the weather features related to each product sales data. Also, we can filter out relevant information further to filter out very anomalous events such as snow grains, that are very uncommon. We select the top 11 events, which happen to have more than 1% ocurrance in the dataset. "
   ]
  },
  {
   "cell_type": "code",
   "execution_count": 230,
   "metadata": {},
   "outputs": [],
   "source": [
    "#Get fields to remove\n",
    "to_remove = codesum_df.columns[~codesum_df.columns.isin(['BR','RA', 'HZ', 'TSRA', 'SN', 'TS', \n",
    "                                                         'FG+', 'VCTS', 'FG', 'DZ', 'FZFG'])].to_list()\n",
    "to_remove.append('codesum')\n",
    "#Append to dataframe\n",
    "sales_data = sales_data.merge(codesum_df, left_index=True, right_index=True)\n",
    "# Clean the dataset\n",
    "sales_data = sales_data[sales_data.columns[~sales_data.columns.isin(to_remove)]]"
   ]
  },
  {
   "cell_type": "code",
   "execution_count": 231,
   "metadata": {},
   "outputs": [
    {
     "data": {
      "text/html": [
       "<div>\n",
       "<style scoped>\n",
       "    .dataframe tbody tr th:only-of-type {\n",
       "        vertical-align: middle;\n",
       "    }\n",
       "\n",
       "    .dataframe tbody tr th {\n",
       "        vertical-align: top;\n",
       "    }\n",
       "\n",
       "    .dataframe thead th {\n",
       "        text-align: right;\n",
       "    }\n",
       "</style>\n",
       "<table border=\"1\" class=\"dataframe\">\n",
       "  <thead>\n",
       "    <tr style=\"text-align: right;\">\n",
       "      <th></th>\n",
       "      <th>date</th>\n",
       "      <th>item_nbr</th>\n",
       "      <th>store_nbr</th>\n",
       "      <th>station_nbr</th>\n",
       "      <th>tmax</th>\n",
       "      <th>preciptotal</th>\n",
       "      <th>stnpressure</th>\n",
       "      <th>avgspeed</th>\n",
       "      <th>units</th>\n",
       "      <th>RA</th>\n",
       "      <th>FZFG</th>\n",
       "      <th>BR</th>\n",
       "      <th>SN</th>\n",
       "      <th>FG+</th>\n",
       "      <th>FG</th>\n",
       "      <th>HZ</th>\n",
       "      <th>TSRA</th>\n",
       "      <th>TS</th>\n",
       "      <th>VCTS</th>\n",
       "      <th>DZ</th>\n",
       "    </tr>\n",
       "  </thead>\n",
       "  <tbody>\n",
       "    <tr>\n",
       "      <td>0</td>\n",
       "      <td>2012-01-01</td>\n",
       "      <td>5</td>\n",
       "      <td>1</td>\n",
       "      <td>1</td>\n",
       "      <td>52.0</td>\n",
       "      <td>0.05</td>\n",
       "      <td>29.78</td>\n",
       "      <td>4.6</td>\n",
       "      <td>0</td>\n",
       "      <td>1.0</td>\n",
       "      <td>1.0</td>\n",
       "      <td>1.0</td>\n",
       "      <td>0.0</td>\n",
       "      <td>0.0</td>\n",
       "      <td>0.0</td>\n",
       "      <td>0.0</td>\n",
       "      <td>0.0</td>\n",
       "      <td>0.0</td>\n",
       "      <td>0.0</td>\n",
       "      <td>0.0</td>\n",
       "    </tr>\n",
       "    <tr>\n",
       "      <td>1</td>\n",
       "      <td>2012-01-01</td>\n",
       "      <td>9</td>\n",
       "      <td>1</td>\n",
       "      <td>1</td>\n",
       "      <td>52.0</td>\n",
       "      <td>0.05</td>\n",
       "      <td>29.78</td>\n",
       "      <td>4.6</td>\n",
       "      <td>29</td>\n",
       "      <td>1.0</td>\n",
       "      <td>1.0</td>\n",
       "      <td>1.0</td>\n",
       "      <td>0.0</td>\n",
       "      <td>0.0</td>\n",
       "      <td>0.0</td>\n",
       "      <td>0.0</td>\n",
       "      <td>0.0</td>\n",
       "      <td>0.0</td>\n",
       "      <td>0.0</td>\n",
       "      <td>0.0</td>\n",
       "    </tr>\n",
       "    <tr>\n",
       "      <td>2</td>\n",
       "      <td>2012-01-01</td>\n",
       "      <td>45</td>\n",
       "      <td>1</td>\n",
       "      <td>1</td>\n",
       "      <td>52.0</td>\n",
       "      <td>0.05</td>\n",
       "      <td>29.78</td>\n",
       "      <td>4.6</td>\n",
       "      <td>0</td>\n",
       "      <td>1.0</td>\n",
       "      <td>1.0</td>\n",
       "      <td>1.0</td>\n",
       "      <td>0.0</td>\n",
       "      <td>0.0</td>\n",
       "      <td>0.0</td>\n",
       "      <td>0.0</td>\n",
       "      <td>0.0</td>\n",
       "      <td>0.0</td>\n",
       "      <td>0.0</td>\n",
       "      <td>0.0</td>\n",
       "    </tr>\n",
       "    <tr>\n",
       "      <td>3</td>\n",
       "      <td>2012-01-02</td>\n",
       "      <td>5</td>\n",
       "      <td>1</td>\n",
       "      <td>1</td>\n",
       "      <td>50.0</td>\n",
       "      <td>0.01</td>\n",
       "      <td>29.44</td>\n",
       "      <td>10.3</td>\n",
       "      <td>0</td>\n",
       "      <td>0.0</td>\n",
       "      <td>0.0</td>\n",
       "      <td>0.0</td>\n",
       "      <td>0.0</td>\n",
       "      <td>0.0</td>\n",
       "      <td>0.0</td>\n",
       "      <td>0.0</td>\n",
       "      <td>0.0</td>\n",
       "      <td>0.0</td>\n",
       "      <td>0.0</td>\n",
       "      <td>0.0</td>\n",
       "    </tr>\n",
       "    <tr>\n",
       "      <td>4</td>\n",
       "      <td>2012-01-02</td>\n",
       "      <td>9</td>\n",
       "      <td>1</td>\n",
       "      <td>1</td>\n",
       "      <td>50.0</td>\n",
       "      <td>0.01</td>\n",
       "      <td>29.44</td>\n",
       "      <td>10.3</td>\n",
       "      <td>60</td>\n",
       "      <td>0.0</td>\n",
       "      <td>0.0</td>\n",
       "      <td>0.0</td>\n",
       "      <td>0.0</td>\n",
       "      <td>0.0</td>\n",
       "      <td>0.0</td>\n",
       "      <td>0.0</td>\n",
       "      <td>0.0</td>\n",
       "      <td>0.0</td>\n",
       "      <td>0.0</td>\n",
       "      <td>0.0</td>\n",
       "    </tr>\n",
       "  </tbody>\n",
       "</table>\n",
       "</div>"
      ],
      "text/plain": [
       "        date  item_nbr  store_nbr  station_nbr  tmax  preciptotal  \\\n",
       "0 2012-01-01         5          1            1  52.0         0.05   \n",
       "1 2012-01-01         9          1            1  52.0         0.05   \n",
       "2 2012-01-01        45          1            1  52.0         0.05   \n",
       "3 2012-01-02         5          1            1  50.0         0.01   \n",
       "4 2012-01-02         9          1            1  50.0         0.01   \n",
       "\n",
       "   stnpressure  avgspeed  units   RA  FZFG   BR   SN  FG+   FG   HZ  TSRA  \\\n",
       "0        29.78       4.6      0  1.0   1.0  1.0  0.0  0.0  0.0  0.0   0.0   \n",
       "1        29.78       4.6     29  1.0   1.0  1.0  0.0  0.0  0.0  0.0   0.0   \n",
       "2        29.78       4.6      0  1.0   1.0  1.0  0.0  0.0  0.0  0.0   0.0   \n",
       "3        29.44      10.3      0  0.0   0.0  0.0  0.0  0.0  0.0  0.0   0.0   \n",
       "4        29.44      10.3     60  0.0   0.0  0.0  0.0  0.0  0.0  0.0   0.0   \n",
       "\n",
       "    TS  VCTS   DZ  \n",
       "0  0.0   0.0  0.0  \n",
       "1  0.0   0.0  0.0  \n",
       "2  0.0   0.0  0.0  \n",
       "3  0.0   0.0  0.0  \n",
       "4  0.0   0.0  0.0  "
      ]
     },
     "execution_count": 231,
     "metadata": {},
     "output_type": "execute_result"
    }
   ],
   "source": [
    "sales_data.head()"
   ]
  },
  {
   "cell_type": "code",
   "execution_count": 232,
   "metadata": {},
   "outputs": [
    {
     "data": {
      "text/plain": [
       "(119298, 20)"
      ]
     },
     "execution_count": 232,
     "metadata": {},
     "output_type": "execute_result"
    }
   ],
   "source": [
    "sales_data.shape"
   ]
  },
  {
   "cell_type": "markdown",
   "metadata": {},
   "source": [
    "## Adding new time-related variables"
   ]
  },
  {
   "cell_type": "markdown",
   "metadata": {},
   "source": [
    "We will also add some interesting time-related variables that could impact sales, such as:\n",
    "\n",
    "* Weekend vs weekday (boolean)\n",
    "* Quantity sold the previous day (int)\n",
    "* Month of the year (cyclical)"
   ]
  },
  {
   "cell_type": "markdown",
   "metadata": {},
   "source": [
    "### Weekend vs. Weekday  "
   ]
  },
  {
   "cell_type": "code",
   "execution_count": 233,
   "metadata": {},
   "outputs": [],
   "source": [
    "sales_data['weekend'] = sales_data.date.apply(lambda x: x.weekday() in [6,5])"
   ]
  },
  {
   "cell_type": "markdown",
   "metadata": {},
   "source": [
    "### Quantity sold the previous day "
   ]
  },
  {
   "cell_type": "markdown",
   "metadata": {},
   "source": [
    "We will first define a function to get the values for the day before (if exist): "
   ]
  },
  {
   "cell_type": "code",
   "execution_count": 234,
   "metadata": {},
   "outputs": [],
   "source": [
    "def get_previous_quantity(df, q='units', date='date'):\n",
    "    \"\"\"Takes a dataframe with a date column and a quantity column and appends a new column with the \n",
    "    quantity for the previous day. If there were no quantities the day before, it returns zero.\n",
    "    \n",
    "    >>> from datetime import datetime, timedelta \n",
    "    >>> import pandas as pd\n",
    "    \n",
    "    >>> sales = {'date': [datetime.today() - timedelta(days=4),\\\n",
    "    datetime.today() - timedelta(days=2),\\\n",
    "    datetime.today() - timedelta(days=1),\\\n",
    "    datetime.today()], \\\n",
    "    'units': [5,4,3,2]}\n",
    "    \n",
    "    >>> sales_df = pd.DataFrame(sales)\n",
    "    \n",
    "    >>> get_previous_quantity(sales_df)['previous_units'].to_list()\n",
    "    [0.0, 0.0, 4.0, 3.0]\n",
    "    \n",
    "    \"\"\"\n",
    "    from datetime import timedelta\n",
    "    \n",
    "    df = df.sort_values(by=date, ascending=True)\n",
    "    \n",
    "    # Calculate previous day's units\n",
    "    df['previous_units'] = df[q].shift(1)\n",
    "    df.loc[df['previous_units'].isna(), 'previous_units'] = 0\n",
    "    \n",
    "    # Flag if the difference between current and previous is 1 day\n",
    "    df['has_prev_day'] = df[date].diff() == timedelta(1)\n",
    "    \n",
    "    # Set to zero if it's not\n",
    "    df.loc[df['has_prev_day'] == False, 'previous_units'] = 0\n",
    "    \n",
    "    df.drop(columns=['has_prev_day'], inplace=True)\n",
    "    \n",
    "    return df\n",
    "\n",
    "if __name__ == '__main__':\n",
    "    import doctest\n",
    "    doctest.run_docstring_examples(get_previous_quantity, globals())\n",
    "    "
   ]
  },
  {
   "cell_type": "markdown",
   "metadata": {},
   "source": [
    "Now, we are going to loop over the rows of the dataframe with the three different `item_nbr` in order to get the previous quantity for every product at every store.   "
   ]
  },
  {
   "cell_type": "code",
   "execution_count": 235,
   "metadata": {},
   "outputs": [],
   "source": [
    "for product in sales_data.item_nbr.unique():\n",
    "    for store in sales_data.store_nbr.unique():\n",
    "        if (product == 5) and (store == 1):\n",
    "            #Create first dataframe\n",
    "            sales_new = get_previous_quantity(sales_data.loc[(sales_data.item_nbr == product) & (sales_data.store_nbr == store)])\n",
    "        else:\n",
    "            #Append to previous dataframe\n",
    "            current_df = get_previous_quantity(sales_data.loc[(sales_data.item_nbr == product) & (sales_data.store_nbr == store)])\n",
    "            sales_new = sales_new.append(current_df)\n",
    "            \n",
    "sales_new.reset_index(inplace=True, drop=True)"
   ]
  },
  {
   "cell_type": "code",
   "execution_count": 236,
   "metadata": {},
   "outputs": [
    {
     "data": {
      "text/html": [
       "<div>\n",
       "<style scoped>\n",
       "    .dataframe tbody tr th:only-of-type {\n",
       "        vertical-align: middle;\n",
       "    }\n",
       "\n",
       "    .dataframe tbody tr th {\n",
       "        vertical-align: top;\n",
       "    }\n",
       "\n",
       "    .dataframe thead th {\n",
       "        text-align: right;\n",
       "    }\n",
       "</style>\n",
       "<table border=\"1\" class=\"dataframe\">\n",
       "  <thead>\n",
       "    <tr style=\"text-align: right;\">\n",
       "      <th></th>\n",
       "      <th>date</th>\n",
       "      <th>item_nbr</th>\n",
       "      <th>store_nbr</th>\n",
       "      <th>station_nbr</th>\n",
       "      <th>tmax</th>\n",
       "      <th>preciptotal</th>\n",
       "      <th>stnpressure</th>\n",
       "      <th>avgspeed</th>\n",
       "      <th>units</th>\n",
       "      <th>RA</th>\n",
       "      <th>...</th>\n",
       "      <th>SN</th>\n",
       "      <th>FG+</th>\n",
       "      <th>FG</th>\n",
       "      <th>HZ</th>\n",
       "      <th>TSRA</th>\n",
       "      <th>TS</th>\n",
       "      <th>VCTS</th>\n",
       "      <th>DZ</th>\n",
       "      <th>weekend</th>\n",
       "      <th>previous_units</th>\n",
       "    </tr>\n",
       "  </thead>\n",
       "  <tbody>\n",
       "    <tr>\n",
       "      <td>1000</td>\n",
       "      <td>2012-03-12</td>\n",
       "      <td>5</td>\n",
       "      <td>16</td>\n",
       "      <td>2</td>\n",
       "      <td>68.0</td>\n",
       "      <td>0.00</td>\n",
       "      <td>29.11</td>\n",
       "      <td>8.6</td>\n",
       "      <td>0</td>\n",
       "      <td>0.0</td>\n",
       "      <td>...</td>\n",
       "      <td>0.0</td>\n",
       "      <td>0.0</td>\n",
       "      <td>0.0</td>\n",
       "      <td>0.0</td>\n",
       "      <td>0.0</td>\n",
       "      <td>0.0</td>\n",
       "      <td>0.0</td>\n",
       "      <td>0.0</td>\n",
       "      <td>False</td>\n",
       "      <td>0.0</td>\n",
       "    </tr>\n",
       "    <tr>\n",
       "      <td>1001</td>\n",
       "      <td>2012-03-13</td>\n",
       "      <td>5</td>\n",
       "      <td>16</td>\n",
       "      <td>2</td>\n",
       "      <td>69.0</td>\n",
       "      <td>0.28</td>\n",
       "      <td>28.90</td>\n",
       "      <td>10.1</td>\n",
       "      <td>0</td>\n",
       "      <td>1.0</td>\n",
       "      <td>...</td>\n",
       "      <td>0.0</td>\n",
       "      <td>0.0</td>\n",
       "      <td>0.0</td>\n",
       "      <td>0.0</td>\n",
       "      <td>0.0</td>\n",
       "      <td>0.0</td>\n",
       "      <td>0.0</td>\n",
       "      <td>0.0</td>\n",
       "      <td>False</td>\n",
       "      <td>0.0</td>\n",
       "    </tr>\n",
       "    <tr>\n",
       "      <td>1002</td>\n",
       "      <td>2012-03-14</td>\n",
       "      <td>5</td>\n",
       "      <td>16</td>\n",
       "      <td>2</td>\n",
       "      <td>61.0</td>\n",
       "      <td>0.00</td>\n",
       "      <td>28.97</td>\n",
       "      <td>8.6</td>\n",
       "      <td>0</td>\n",
       "      <td>0.0</td>\n",
       "      <td>...</td>\n",
       "      <td>0.0</td>\n",
       "      <td>0.0</td>\n",
       "      <td>1.0</td>\n",
       "      <td>0.0</td>\n",
       "      <td>0.0</td>\n",
       "      <td>0.0</td>\n",
       "      <td>0.0</td>\n",
       "      <td>0.0</td>\n",
       "      <td>False</td>\n",
       "      <td>0.0</td>\n",
       "    </tr>\n",
       "    <tr>\n",
       "      <td>1003</td>\n",
       "      <td>2012-03-15</td>\n",
       "      <td>5</td>\n",
       "      <td>16</td>\n",
       "      <td>2</td>\n",
       "      <td>46.0</td>\n",
       "      <td>0.05</td>\n",
       "      <td>29.19</td>\n",
       "      <td>4.0</td>\n",
       "      <td>0</td>\n",
       "      <td>1.0</td>\n",
       "      <td>...</td>\n",
       "      <td>0.0</td>\n",
       "      <td>0.0</td>\n",
       "      <td>1.0</td>\n",
       "      <td>0.0</td>\n",
       "      <td>0.0</td>\n",
       "      <td>0.0</td>\n",
       "      <td>0.0</td>\n",
       "      <td>0.0</td>\n",
       "      <td>False</td>\n",
       "      <td>0.0</td>\n",
       "    </tr>\n",
       "    <tr>\n",
       "      <td>1004</td>\n",
       "      <td>2012-03-16</td>\n",
       "      <td>5</td>\n",
       "      <td>16</td>\n",
       "      <td>2</td>\n",
       "      <td>49.0</td>\n",
       "      <td>0.07</td>\n",
       "      <td>29.10</td>\n",
       "      <td>6.1</td>\n",
       "      <td>0</td>\n",
       "      <td>1.0</td>\n",
       "      <td>...</td>\n",
       "      <td>0.0</td>\n",
       "      <td>0.0</td>\n",
       "      <td>0.0</td>\n",
       "      <td>0.0</td>\n",
       "      <td>0.0</td>\n",
       "      <td>0.0</td>\n",
       "      <td>0.0</td>\n",
       "      <td>0.0</td>\n",
       "      <td>False</td>\n",
       "      <td>0.0</td>\n",
       "    </tr>\n",
       "  </tbody>\n",
       "</table>\n",
       "<p>5 rows × 22 columns</p>\n",
       "</div>"
      ],
      "text/plain": [
       "           date  item_nbr  store_nbr  station_nbr  tmax  preciptotal  \\\n",
       "1000 2012-03-12         5         16            2  68.0         0.00   \n",
       "1001 2012-03-13         5         16            2  69.0         0.28   \n",
       "1002 2012-03-14         5         16            2  61.0         0.00   \n",
       "1003 2012-03-15         5         16            2  46.0         0.05   \n",
       "1004 2012-03-16         5         16            2  49.0         0.07   \n",
       "\n",
       "      stnpressure  avgspeed  units   RA  ...   SN  FG+   FG   HZ  TSRA   TS  \\\n",
       "1000        29.11       8.6      0  0.0  ...  0.0  0.0  0.0  0.0   0.0  0.0   \n",
       "1001        28.90      10.1      0  1.0  ...  0.0  0.0  0.0  0.0   0.0  0.0   \n",
       "1002        28.97       8.6      0  0.0  ...  0.0  0.0  1.0  0.0   0.0  0.0   \n",
       "1003        29.19       4.0      0  1.0  ...  0.0  0.0  1.0  0.0   0.0  0.0   \n",
       "1004        29.10       6.1      0  1.0  ...  0.0  0.0  0.0  0.0   0.0  0.0   \n",
       "\n",
       "      VCTS   DZ  weekend  previous_units  \n",
       "1000   0.0  0.0    False             0.0  \n",
       "1001   0.0  0.0    False             0.0  \n",
       "1002   0.0  0.0    False             0.0  \n",
       "1003   0.0  0.0    False             0.0  \n",
       "1004   0.0  0.0    False             0.0  \n",
       "\n",
       "[5 rows x 22 columns]"
      ]
     },
     "execution_count": 236,
     "metadata": {},
     "output_type": "execute_result"
    }
   ],
   "source": [
    "#Check it out to see how it works\n",
    "sales_new[1000:1005]"
   ]
  },
  {
   "cell_type": "markdown",
   "metadata": {},
   "source": [
    "## Engineering for time variables\n",
    "\n",
    "Having our `date` variable, and in order to add derived variables such as *month of the year*, we need to make sure that these act as cyclical variable in our model, which is their nature. We will apply a transformation to preserve the cyclical characteristics of months, i.e. the last month of the year is close to the first one of the following year. [LINK](http://blog.davidkaleko.com/feature-engineering-cyclical-features.html)\n",
    "\n",
    "This transformation is explained in the following picture:\n",
    "\n",
    "![alt text](http://blog.davidkaleko.com/images/unit_circle.png)\n"
   ]
  },
  {
   "cell_type": "markdown",
   "metadata": {},
   "source": [
    "### Create derived variables of interest "
   ]
  },
  {
   "cell_type": "code",
   "execution_count": 237,
   "metadata": {},
   "outputs": [],
   "source": [
    "sales_data['month'] = sales_data.date.dt.month "
   ]
  },
  {
   "cell_type": "markdown",
   "metadata": {},
   "source": [
    "### Transform variables into cyclical variables using sine and cosine"
   ]
  },
  {
   "cell_type": "code",
   "execution_count": 238,
   "metadata": {},
   "outputs": [],
   "source": [
    "sales_data['month_sin'] = np.sin(sales_data.month*(2.*np.pi/12))\n",
    "sales_data['month_cos'] = np.cos(sales_data.month*(2.*np.pi/12))"
   ]
  },
  {
   "cell_type": "code",
   "execution_count": 239,
   "metadata": {},
   "outputs": [
    {
     "data": {
      "text/html": [
       "<div>\n",
       "<style scoped>\n",
       "    .dataframe tbody tr th:only-of-type {\n",
       "        vertical-align: middle;\n",
       "    }\n",
       "\n",
       "    .dataframe tbody tr th {\n",
       "        vertical-align: top;\n",
       "    }\n",
       "\n",
       "    .dataframe thead th {\n",
       "        text-align: right;\n",
       "    }\n",
       "</style>\n",
       "<table border=\"1\" class=\"dataframe\">\n",
       "  <thead>\n",
       "    <tr style=\"text-align: right;\">\n",
       "      <th></th>\n",
       "      <th>date</th>\n",
       "      <th>item_nbr</th>\n",
       "      <th>store_nbr</th>\n",
       "      <th>station_nbr</th>\n",
       "      <th>tmax</th>\n",
       "      <th>preciptotal</th>\n",
       "      <th>stnpressure</th>\n",
       "      <th>avgspeed</th>\n",
       "      <th>units</th>\n",
       "      <th>RA</th>\n",
       "      <th>...</th>\n",
       "      <th>FG</th>\n",
       "      <th>HZ</th>\n",
       "      <th>TSRA</th>\n",
       "      <th>TS</th>\n",
       "      <th>VCTS</th>\n",
       "      <th>DZ</th>\n",
       "      <th>weekend</th>\n",
       "      <th>month</th>\n",
       "      <th>month_sin</th>\n",
       "      <th>month_cos</th>\n",
       "    </tr>\n",
       "  </thead>\n",
       "  <tbody>\n",
       "    <tr>\n",
       "      <td>0</td>\n",
       "      <td>2012-01-01</td>\n",
       "      <td>5</td>\n",
       "      <td>1</td>\n",
       "      <td>1</td>\n",
       "      <td>52.0</td>\n",
       "      <td>0.05</td>\n",
       "      <td>29.78</td>\n",
       "      <td>4.6</td>\n",
       "      <td>0</td>\n",
       "      <td>1.0</td>\n",
       "      <td>...</td>\n",
       "      <td>0.0</td>\n",
       "      <td>0.0</td>\n",
       "      <td>0.0</td>\n",
       "      <td>0.0</td>\n",
       "      <td>0.0</td>\n",
       "      <td>0.0</td>\n",
       "      <td>True</td>\n",
       "      <td>1</td>\n",
       "      <td>0.5</td>\n",
       "      <td>0.866025</td>\n",
       "    </tr>\n",
       "    <tr>\n",
       "      <td>1</td>\n",
       "      <td>2012-01-01</td>\n",
       "      <td>9</td>\n",
       "      <td>1</td>\n",
       "      <td>1</td>\n",
       "      <td>52.0</td>\n",
       "      <td>0.05</td>\n",
       "      <td>29.78</td>\n",
       "      <td>4.6</td>\n",
       "      <td>29</td>\n",
       "      <td>1.0</td>\n",
       "      <td>...</td>\n",
       "      <td>0.0</td>\n",
       "      <td>0.0</td>\n",
       "      <td>0.0</td>\n",
       "      <td>0.0</td>\n",
       "      <td>0.0</td>\n",
       "      <td>0.0</td>\n",
       "      <td>True</td>\n",
       "      <td>1</td>\n",
       "      <td>0.5</td>\n",
       "      <td>0.866025</td>\n",
       "    </tr>\n",
       "    <tr>\n",
       "      <td>2</td>\n",
       "      <td>2012-01-01</td>\n",
       "      <td>45</td>\n",
       "      <td>1</td>\n",
       "      <td>1</td>\n",
       "      <td>52.0</td>\n",
       "      <td>0.05</td>\n",
       "      <td>29.78</td>\n",
       "      <td>4.6</td>\n",
       "      <td>0</td>\n",
       "      <td>1.0</td>\n",
       "      <td>...</td>\n",
       "      <td>0.0</td>\n",
       "      <td>0.0</td>\n",
       "      <td>0.0</td>\n",
       "      <td>0.0</td>\n",
       "      <td>0.0</td>\n",
       "      <td>0.0</td>\n",
       "      <td>True</td>\n",
       "      <td>1</td>\n",
       "      <td>0.5</td>\n",
       "      <td>0.866025</td>\n",
       "    </tr>\n",
       "    <tr>\n",
       "      <td>3</td>\n",
       "      <td>2012-01-02</td>\n",
       "      <td>5</td>\n",
       "      <td>1</td>\n",
       "      <td>1</td>\n",
       "      <td>50.0</td>\n",
       "      <td>0.01</td>\n",
       "      <td>29.44</td>\n",
       "      <td>10.3</td>\n",
       "      <td>0</td>\n",
       "      <td>0.0</td>\n",
       "      <td>...</td>\n",
       "      <td>0.0</td>\n",
       "      <td>0.0</td>\n",
       "      <td>0.0</td>\n",
       "      <td>0.0</td>\n",
       "      <td>0.0</td>\n",
       "      <td>0.0</td>\n",
       "      <td>False</td>\n",
       "      <td>1</td>\n",
       "      <td>0.5</td>\n",
       "      <td>0.866025</td>\n",
       "    </tr>\n",
       "    <tr>\n",
       "      <td>4</td>\n",
       "      <td>2012-01-02</td>\n",
       "      <td>9</td>\n",
       "      <td>1</td>\n",
       "      <td>1</td>\n",
       "      <td>50.0</td>\n",
       "      <td>0.01</td>\n",
       "      <td>29.44</td>\n",
       "      <td>10.3</td>\n",
       "      <td>60</td>\n",
       "      <td>0.0</td>\n",
       "      <td>...</td>\n",
       "      <td>0.0</td>\n",
       "      <td>0.0</td>\n",
       "      <td>0.0</td>\n",
       "      <td>0.0</td>\n",
       "      <td>0.0</td>\n",
       "      <td>0.0</td>\n",
       "      <td>False</td>\n",
       "      <td>1</td>\n",
       "      <td>0.5</td>\n",
       "      <td>0.866025</td>\n",
       "    </tr>\n",
       "  </tbody>\n",
       "</table>\n",
       "<p>5 rows × 24 columns</p>\n",
       "</div>"
      ],
      "text/plain": [
       "        date  item_nbr  store_nbr  station_nbr  tmax  preciptotal  \\\n",
       "0 2012-01-01         5          1            1  52.0         0.05   \n",
       "1 2012-01-01         9          1            1  52.0         0.05   \n",
       "2 2012-01-01        45          1            1  52.0         0.05   \n",
       "3 2012-01-02         5          1            1  50.0         0.01   \n",
       "4 2012-01-02         9          1            1  50.0         0.01   \n",
       "\n",
       "   stnpressure  avgspeed  units   RA  ...   FG   HZ  TSRA   TS  VCTS   DZ  \\\n",
       "0        29.78       4.6      0  1.0  ...  0.0  0.0   0.0  0.0   0.0  0.0   \n",
       "1        29.78       4.6     29  1.0  ...  0.0  0.0   0.0  0.0   0.0  0.0   \n",
       "2        29.78       4.6      0  1.0  ...  0.0  0.0   0.0  0.0   0.0  0.0   \n",
       "3        29.44      10.3      0  0.0  ...  0.0  0.0   0.0  0.0   0.0  0.0   \n",
       "4        29.44      10.3     60  0.0  ...  0.0  0.0   0.0  0.0   0.0  0.0   \n",
       "\n",
       "   weekend  month  month_sin  month_cos  \n",
       "0     True      1        0.5   0.866025  \n",
       "1     True      1        0.5   0.866025  \n",
       "2     True      1        0.5   0.866025  \n",
       "3    False      1        0.5   0.866025  \n",
       "4    False      1        0.5   0.866025  \n",
       "\n",
       "[5 rows x 24 columns]"
      ]
     },
     "execution_count": 239,
     "metadata": {},
     "output_type": "execute_result"
    }
   ],
   "source": [
    "sales_data.head()"
   ]
  },
  {
   "cell_type": "markdown",
   "metadata": {},
   "source": [
    "## Assign cluster number "
   ]
  },
  {
   "cell_type": "markdown",
   "metadata": {},
   "source": [
    "Now, with the map extracted from [EDA](EDA.ipynb), we will assign the cluster number to each of the stations (and stores)."
   ]
  },
  {
   "cell_type": "code",
   "execution_count": 241,
   "metadata": {},
   "outputs": [],
   "source": [
    "labels_map = pd.read_csv('labels_map.csv', index_col='stores')"
   ]
  },
  {
   "cell_type": "code",
   "execution_count": 242,
   "metadata": {},
   "outputs": [],
   "source": [
    "sales_data['city'] = sales_data.station_nbr.apply(lambda x: labels_map.at[x,'cluster'])"
   ]
  },
  {
   "cell_type": "code",
   "execution_count": 247,
   "metadata": {},
   "outputs": [
    {
     "data": {
      "text/html": [
       "<div>\n",
       "<style scoped>\n",
       "    .dataframe tbody tr th:only-of-type {\n",
       "        vertical-align: middle;\n",
       "    }\n",
       "\n",
       "    .dataframe tbody tr th {\n",
       "        vertical-align: top;\n",
       "    }\n",
       "\n",
       "    .dataframe thead th {\n",
       "        text-align: right;\n",
       "    }\n",
       "</style>\n",
       "<table border=\"1\" class=\"dataframe\">\n",
       "  <thead>\n",
       "    <tr style=\"text-align: right;\">\n",
       "      <th></th>\n",
       "      <th>date</th>\n",
       "      <th>item_nbr</th>\n",
       "      <th>store_nbr</th>\n",
       "      <th>station_nbr</th>\n",
       "      <th>tmax</th>\n",
       "      <th>preciptotal</th>\n",
       "      <th>stnpressure</th>\n",
       "      <th>avgspeed</th>\n",
       "      <th>units</th>\n",
       "      <th>RA</th>\n",
       "      <th>...</th>\n",
       "      <th>HZ</th>\n",
       "      <th>TSRA</th>\n",
       "      <th>TS</th>\n",
       "      <th>VCTS</th>\n",
       "      <th>DZ</th>\n",
       "      <th>weekend</th>\n",
       "      <th>month</th>\n",
       "      <th>month_sin</th>\n",
       "      <th>month_cos</th>\n",
       "      <th>city</th>\n",
       "    </tr>\n",
       "  </thead>\n",
       "  <tbody>\n",
       "    <tr>\n",
       "      <td>0</td>\n",
       "      <td>2012-01-01</td>\n",
       "      <td>5</td>\n",
       "      <td>1</td>\n",
       "      <td>1</td>\n",
       "      <td>52.0</td>\n",
       "      <td>0.05</td>\n",
       "      <td>29.78</td>\n",
       "      <td>4.6</td>\n",
       "      <td>0</td>\n",
       "      <td>1.0</td>\n",
       "      <td>...</td>\n",
       "      <td>0.0</td>\n",
       "      <td>0.0</td>\n",
       "      <td>0.0</td>\n",
       "      <td>0.0</td>\n",
       "      <td>0.0</td>\n",
       "      <td>True</td>\n",
       "      <td>1</td>\n",
       "      <td>0.5</td>\n",
       "      <td>0.866025</td>\n",
       "      <td>1</td>\n",
       "    </tr>\n",
       "    <tr>\n",
       "      <td>1</td>\n",
       "      <td>2012-01-01</td>\n",
       "      <td>9</td>\n",
       "      <td>1</td>\n",
       "      <td>1</td>\n",
       "      <td>52.0</td>\n",
       "      <td>0.05</td>\n",
       "      <td>29.78</td>\n",
       "      <td>4.6</td>\n",
       "      <td>29</td>\n",
       "      <td>1.0</td>\n",
       "      <td>...</td>\n",
       "      <td>0.0</td>\n",
       "      <td>0.0</td>\n",
       "      <td>0.0</td>\n",
       "      <td>0.0</td>\n",
       "      <td>0.0</td>\n",
       "      <td>True</td>\n",
       "      <td>1</td>\n",
       "      <td>0.5</td>\n",
       "      <td>0.866025</td>\n",
       "      <td>1</td>\n",
       "    </tr>\n",
       "    <tr>\n",
       "      <td>2</td>\n",
       "      <td>2012-01-01</td>\n",
       "      <td>45</td>\n",
       "      <td>1</td>\n",
       "      <td>1</td>\n",
       "      <td>52.0</td>\n",
       "      <td>0.05</td>\n",
       "      <td>29.78</td>\n",
       "      <td>4.6</td>\n",
       "      <td>0</td>\n",
       "      <td>1.0</td>\n",
       "      <td>...</td>\n",
       "      <td>0.0</td>\n",
       "      <td>0.0</td>\n",
       "      <td>0.0</td>\n",
       "      <td>0.0</td>\n",
       "      <td>0.0</td>\n",
       "      <td>True</td>\n",
       "      <td>1</td>\n",
       "      <td>0.5</td>\n",
       "      <td>0.866025</td>\n",
       "      <td>1</td>\n",
       "    </tr>\n",
       "    <tr>\n",
       "      <td>3</td>\n",
       "      <td>2012-01-02</td>\n",
       "      <td>5</td>\n",
       "      <td>1</td>\n",
       "      <td>1</td>\n",
       "      <td>50.0</td>\n",
       "      <td>0.01</td>\n",
       "      <td>29.44</td>\n",
       "      <td>10.3</td>\n",
       "      <td>0</td>\n",
       "      <td>0.0</td>\n",
       "      <td>...</td>\n",
       "      <td>0.0</td>\n",
       "      <td>0.0</td>\n",
       "      <td>0.0</td>\n",
       "      <td>0.0</td>\n",
       "      <td>0.0</td>\n",
       "      <td>False</td>\n",
       "      <td>1</td>\n",
       "      <td>0.5</td>\n",
       "      <td>0.866025</td>\n",
       "      <td>1</td>\n",
       "    </tr>\n",
       "    <tr>\n",
       "      <td>4</td>\n",
       "      <td>2012-01-02</td>\n",
       "      <td>9</td>\n",
       "      <td>1</td>\n",
       "      <td>1</td>\n",
       "      <td>50.0</td>\n",
       "      <td>0.01</td>\n",
       "      <td>29.44</td>\n",
       "      <td>10.3</td>\n",
       "      <td>60</td>\n",
       "      <td>0.0</td>\n",
       "      <td>...</td>\n",
       "      <td>0.0</td>\n",
       "      <td>0.0</td>\n",
       "      <td>0.0</td>\n",
       "      <td>0.0</td>\n",
       "      <td>0.0</td>\n",
       "      <td>False</td>\n",
       "      <td>1</td>\n",
       "      <td>0.5</td>\n",
       "      <td>0.866025</td>\n",
       "      <td>1</td>\n",
       "    </tr>\n",
       "  </tbody>\n",
       "</table>\n",
       "<p>5 rows × 25 columns</p>\n",
       "</div>"
      ],
      "text/plain": [
       "        date  item_nbr  store_nbr  station_nbr  tmax  preciptotal  \\\n",
       "0 2012-01-01         5          1            1  52.0         0.05   \n",
       "1 2012-01-01         9          1            1  52.0         0.05   \n",
       "2 2012-01-01        45          1            1  52.0         0.05   \n",
       "3 2012-01-02         5          1            1  50.0         0.01   \n",
       "4 2012-01-02         9          1            1  50.0         0.01   \n",
       "\n",
       "   stnpressure  avgspeed  units   RA  ...   HZ  TSRA   TS  VCTS   DZ  weekend  \\\n",
       "0        29.78       4.6      0  1.0  ...  0.0   0.0  0.0   0.0  0.0     True   \n",
       "1        29.78       4.6     29  1.0  ...  0.0   0.0  0.0   0.0  0.0     True   \n",
       "2        29.78       4.6      0  1.0  ...  0.0   0.0  0.0   0.0  0.0     True   \n",
       "3        29.44      10.3      0  0.0  ...  0.0   0.0  0.0   0.0  0.0    False   \n",
       "4        29.44      10.3     60  0.0  ...  0.0   0.0  0.0   0.0  0.0    False   \n",
       "\n",
       "   month  month_sin  month_cos  city  \n",
       "0      1        0.5   0.866025     1  \n",
       "1      1        0.5   0.866025     1  \n",
       "2      1        0.5   0.866025     1  \n",
       "3      1        0.5   0.866025     1  \n",
       "4      1        0.5   0.866025     1  \n",
       "\n",
       "[5 rows x 25 columns]"
      ]
     },
     "execution_count": 247,
     "metadata": {},
     "output_type": "execute_result"
    }
   ],
   "source": [
    "sales_data.head()"
   ]
  },
  {
   "cell_type": "markdown",
   "metadata": {},
   "source": [
    "## Removing unuseful variables"
   ]
  },
  {
   "cell_type": "code",
   "execution_count": 250,
   "metadata": {},
   "outputs": [],
   "source": [
    "to_remove = ['date', 'store_nbr', 'station_nbr', 'month']\n",
    "sales_clean = sales_data.drop(columns=to_remove)"
   ]
  },
  {
   "cell_type": "markdown",
   "metadata": {},
   "source": [
    "# Feature Engineering"
   ]
  },
  {
   "cell_type": "markdown",
   "metadata": {},
   "source": [
    "We have all the desired variables to fit the model, and at the end, we would have to obtain 3 models for each product, for a total of 6 models. However, first, we have to make some transformations on the data."
   ]
  },
  {
   "cell_type": "markdown",
   "metadata": {},
   "source": [
    "## Removing NAs "
   ]
  },
  {
   "cell_type": "code",
   "execution_count": 259,
   "metadata": {},
   "outputs": [
    {
     "data": {
      "text/plain": [
       "item_nbr         0\n",
       "tmax           507\n",
       "preciptotal    195\n",
       "stnpressure    390\n",
       "avgspeed       264\n",
       "units            0\n",
       "RA               0\n",
       "FZFG             0\n",
       "BR               0\n",
       "SN               0\n",
       "FG+              0\n",
       "FG               0\n",
       "HZ               0\n",
       "TSRA             0\n",
       "TS               0\n",
       "VCTS             0\n",
       "DZ               0\n",
       "weekend          0\n",
       "month_sin        0\n",
       "month_cos        0\n",
       "city             0\n",
       "dtype: int64"
      ]
     },
     "execution_count": 259,
     "metadata": {},
     "output_type": "execute_result"
    }
   ],
   "source": [
    "sales_clean.isna().sum()"
   ]
  },
  {
   "cell_type": "markdown",
   "metadata": {},
   "source": [
    "We will have to impute on those values in order to feed the model with complete data. "
   ]
  },
  {
   "cell_type": "markdown",
   "metadata": {},
   "source": [
    "## Outliers "
   ]
  },
  {
   "cell_type": "code",
   "execution_count": 266,
   "metadata": {},
   "outputs": [],
   "source": [
    "continuous = ['tmax', 'preciptotal', 'stnpressure', 'avgspeed', 'units',]"
   ]
  },
  {
   "cell_type": "code",
   "execution_count": 288,
   "metadata": {},
   "outputs": [
    {
     "data": {
      "image/png": "[encoded data removed]",
      "text/plain": [
       "<Figure size 1080x576 with 6 Axes>"
      ]
     },
     "metadata": {
      "needs_background": "light"
     },
     "output_type": "display_data"
    }
   ],
   "source": [
    "fig, axes = plt.subplots(2,3, figsize=(15,8))\n",
    "for ax, var in zip(axes.flat, continuous):\n",
    "    sales_clean[var].plot(kind='hist', ax=ax, bins=100)\n",
    "    ax.set_title(var)\n",
    "    fig.tight_layout()"
   ]
  },
  {
   "cell_type": "markdown",
   "metadata": {},
   "source": [
    "There doesn't seem to be significant outliers, except for the `stnpressure`, which could be due to the differences inbetween grouped stations. Other than that, the variables seem to have a stable behavior which we would neet to scale."
   ]
  },
  {
   "cell_type": "markdown",
   "metadata": {},
   "source": [
    "## Preprocessing pipeline "
   ]
  },
  {
   "cell_type": "code",
   "execution_count": 264,
   "metadata": {},
   "outputs": [],
   "source": [
    "from sklearn.experimental import enable_iterative_imputer  # noqa\n",
    "from sklearn.impute import IterativeImputer\n",
    "from sklearn.preprocessing import StandardScaler\n",
    "from sklearn.preprocessing import LabelEncoder"
   ]
  },
  {
   "cell_type": "code",
   "execution_count": null,
   "metadata": {},
   "outputs": [],
   "source": [
    "for product in sales_clean.item_nbr.unique():\n",
    "    for city in sales_clean.city.unique():\n",
    "        # Create feature matrices\n",
    "        X = sales_clean[(sales_clean.item_nbr == product) & (sales_clean.city == city)]\n",
    "        y = X.units\n",
    "        X.drop(['item_nbr', 'city', 'units'], inplace=True)\n",
    "        \n",
    "        # Imputing null values\n",
    "        imputer = IterativeImputer()\n",
    "        \n",
    "        #Encoding\n",
    "        label_encoder = LabelEncoder()        \n",
    "        \n",
    "        # Scaling\n",
    "        scaler = StandardScaler()        \n",
    "        "
   ]
  }
 ],
 "metadata": {
  "kernelspec": {
   "display_name": "Python 3",
   "language": "python",
   "name": "python3"
  },
  "language_info": {
   "codemirror_mode": {
    "name": "ipython",
    "version": 3
   },
   "file_extension": ".py",
   "mimetype": "text/x-python",
   "name": "python",
   "nbconvert_exporter": "python",
   "pygments_lexer": "ipython3",
   "version": "3.7.4"
  }
 },
 "nbformat": 4,
 "nbformat_minor": 2
}
